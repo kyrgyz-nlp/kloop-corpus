{
 "cells": [
  {
   "cell_type": "code",
   "execution_count": 2,
   "id": "e884f5c1",
   "metadata": {},
   "outputs": [],
   "source": [
    "import os\n",
    "import django\n",
    "\n",
    "# The following lines are here to avoid `SynchronousOnlyOperation` exception\n",
    "os.environ.setdefault('DJANGO_SETTINGS_MODULE', 'scraper.settings')\n",
    "os.environ[\"DJANGO_ALLOW_ASYNC_UNSAFE\"] = \"true\"\n",
    "django.setup()\n",
    "\n",
    "from articles.models import Article"
   ]
  },
  {
   "cell_type": "code",
   "execution_count": 3,
   "id": "70a6ae90",
   "metadata": {},
   "outputs": [
    {
     "data": {
      "text/plain": [
       "<spacy.pipeline.sentencizer.Sentencizer at 0x1166c2e80>"
      ]
     },
     "execution_count": 3,
     "metadata": {},
     "output_type": "execute_result"
    }
   ],
   "source": [
    "from spacy.lang.ky import Kyrgyz\n",
    "\n",
    "spacy_nlp = Kyrgyz()\n",
    "spacy_nlp.add_pipe(\"sentencizer\")"
   ]
  },
  {
   "cell_type": "code",
   "execution_count": 5,
   "id": "1b1c1f36",
   "metadata": {},
   "outputs": [
    {
     "name": "stdout",
     "output_type": "stream",
     "text": [
      "16826\n"
     ]
    }
   ],
   "source": [
    "arts = Article.objects.all()\n",
    "print(len(arts))"
   ]
  },
  {
   "cell_type": "code",
   "execution_count": 15,
   "id": "5d6dd0bc",
   "metadata": {},
   "outputs": [],
   "source": [
    "def append_sentences_to_file(sentences):\n",
    "    with open('all_texts.txt', 'a') as file:\n",
    "        for sentence in sentences:\n",
    "            text = sentence.text.strip()\n",
    "            file.write(text + '\\n')"
   ]
  },
  {
   "cell_type": "code",
   "execution_count": 16,
   "id": "90e5bd77",
   "metadata": {},
   "outputs": [],
   "source": [
    "for art in arts:\n",
    "    doc = spacy_nlp(art.text)\n",
    "    append_sentences_to_file(doc.sents)"
   ]
  },
  {
   "cell_type": "code",
   "execution_count": null,
   "id": "eef07c22",
   "metadata": {},
   "outputs": [],
   "source": []
  }
 ],
 "metadata": {
  "kernelspec": {
   "display_name": "env",
   "language": "python",
   "name": "python3"
  },
  "language_info": {
   "codemirror_mode": {
    "name": "ipython",
    "version": 3
   },
   "file_extension": ".py",
   "mimetype": "text/x-python",
   "name": "python",
   "nbconvert_exporter": "python",
   "pygments_lexer": "ipython3",
   "version": "3.9.6"
  }
 },
 "nbformat": 4,
 "nbformat_minor": 5
}
