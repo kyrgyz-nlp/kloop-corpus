{
 "cells": [
  {
   "cell_type": "code",
   "execution_count": 1,
   "id": "e884f5c1",
   "metadata": {},
   "outputs": [],
   "source": [
    "import os\n",
    "import django\n",
    "\n",
    "# The following lines are here to avoid `SynchronousOnlyOperation` exception\n",
    "os.environ.setdefault('DJANGO_SETTINGS_MODULE', 'config.settings')\n",
    "os.environ[\"DJANGO_ALLOW_ASYNC_UNSAFE\"] = \"true\"\n",
    "django.setup()\n",
    "\n",
    "from articles.models import Article"
   ]
  },
  {
   "cell_type": "code",
   "execution_count": 2,
   "id": "70a6ae90",
   "metadata": {},
   "outputs": [
    {
     "data": {
      "text/plain": [
       "<spacy.pipeline.sentencizer.Sentencizer at 0x11a6e23c0>"
      ]
     },
     "execution_count": 2,
     "metadata": {},
     "output_type": "execute_result"
    }
   ],
   "source": [
    "from spacy.lang.ky import Kyrgyz\n",
    "\n",
    "spacy_nlp = Kyrgyz()\n",
    "spacy_nlp.add_pipe(\"sentencizer\")"
   ]
  },
  {
   "cell_type": "code",
   "execution_count": 3,
   "id": "1b1c1f36",
   "metadata": {},
   "outputs": [
    {
     "name": "stdout",
     "output_type": "stream",
     "text": [
      "27552\n"
     ]
    }
   ],
   "source": [
    "arts = Article.objects.all()\n",
    "print(len(arts))"
   ]
  },
  {
   "cell_type": "code",
   "execution_count": 8,
   "id": "8bed9048",
   "metadata": {},
   "outputs": [],
   "source": [
    "# Clean the file\n",
    "f = open('all_texts.txt', 'w')\n",
    "f.write('')\n",
    "f.close()"
   ]
  },
  {
   "cell_type": "code",
   "execution_count": 9,
   "id": "5d6dd0bc",
   "metadata": {},
   "outputs": [],
   "source": [
    "def append_sentences_to_file(sentences):\n",
    "    with open('all_texts.txt', 'a') as file:\n",
    "        for sentence in sentences:\n",
    "            text = sentence.text.strip()\n",
    "            file.write(text + '\\n')"
   ]
  },
  {
   "cell_type": "code",
   "execution_count": 18,
   "id": "90e5bd77",
   "metadata": {},
   "outputs": [],
   "source": [
    "# Append each article to all_texts.txt\n",
    "for art in arts:\n",
    "    doc = spacy_nlp(art.text)\n",
    "    append_sentences_to_file(doc.sents)"
   ]
  },
  {
   "cell_type": "code",
   "execution_count": 11,
   "id": "eef07c22",
   "metadata": {},
   "outputs": [],
   "source": [
    "import zipfile\n",
    "\n",
    "def compress_file(filename):\n",
    "    with zipfile.ZipFile(filename + '.zip', 'w', compression=zipfile.ZIP_DEFLATED) as zip_file:\n",
    "        zip_file.write(filename)\n"
   ]
  },
  {
   "cell_type": "code",
   "execution_count": 19,
   "id": "5e95a36a",
   "metadata": {},
   "outputs": [],
   "source": [
    "# Put the file into an archive\n",
    "compress_file('all_texts.txt')"
   ]
  },
  {
   "cell_type": "code",
   "execution_count": 20,
   "id": "167bea7d",
   "metadata": {},
   "outputs": [],
   "source": [
    "# Remove all_texts.txt since github won't accept big files\n",
    "!rm all_texts.txt"
   ]
  },
  {
   "cell_type": "code",
   "execution_count": 21,
   "id": "ee1bc00e",
   "metadata": {},
   "outputs": [],
   "source": [
    "# Decompress the archive. Run this if only you want to work with the raw text file\n",
    "\n",
    "import zipfile\n",
    "\n",
    "with zipfile.ZipFile('all_texts.txt.zip', 'r') as zip_ref:\n",
    "    zip_ref.extract('all_texts.txt')\n"
   ]
  },
  {
   "cell_type": "code",
   "execution_count": null,
   "id": "8bc2eddb",
   "metadata": {},
   "outputs": [],
   "source": []
  }
 ],
 "metadata": {
  "kernelspec": {
   "display_name": "Python 3 (ipykernel)",
   "language": "python",
   "name": "python3"
  },
  "language_info": {
   "codemirror_mode": {
    "name": "ipython",
    "version": 3
   },
   "file_extension": ".py",
   "mimetype": "text/x-python",
   "name": "python",
   "nbconvert_exporter": "python",
   "pygments_lexer": "ipython3",
   "version": "3.9.6"
  }
 },
 "nbformat": 4,
 "nbformat_minor": 5
}
