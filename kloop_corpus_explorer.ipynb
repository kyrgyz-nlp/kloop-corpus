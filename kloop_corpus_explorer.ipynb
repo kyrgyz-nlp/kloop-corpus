{
 "cells": [
  {
   "cell_type": "code",
   "execution_count": 1,
   "id": "4dbb9922",
   "metadata": {},
   "outputs": [],
   "source": [
    "import os\n",
    "import django\n",
    "\n",
    "# The following lines are here to avoid `SynchronousOnlyOperation` exception\n",
    "os.environ.setdefault('DJANGO_SETTINGS_MODULE', 'scraper.settings')\n",
    "os.environ[\"DJANGO_ALLOW_ASYNC_UNSAFE\"] = \"true\"\n",
    "django.setup()"
   ]
  },
  {
   "cell_type": "code",
   "execution_count": 2,
   "id": "8a8de305",
   "metadata": {},
   "outputs": [],
   "source": [
    "from articles.models import Article"
   ]
  },
  {
   "cell_type": "code",
   "execution_count": 3,
   "id": "161141cf",
   "metadata": {},
   "outputs": [
    {
     "data": {
      "text/plain": [
       "16826"
      ]
     },
     "execution_count": 3,
     "metadata": {},
     "output_type": "execute_result"
    }
   ],
   "source": [
    "all_articles = Article.objects.all()\n",
    "all_articles.count()"
   ]
  },
  {
   "cell_type": "code",
   "execution_count": null,
   "id": "5b47f52e",
   "metadata": {},
   "outputs": [],
   "source": []
  }
 ],
 "metadata": {
  "kernelspec": {
   "display_name": "Django Shell-Plus",
   "language": "python",
   "name": "django_extensions"
  },
  "language_info": {
   "codemirror_mode": {
    "name": "ipython",
    "version": 3
   },
   "file_extension": ".py",
   "mimetype": "text/x-python",
   "name": "python",
   "nbconvert_exporter": "python",
   "pygments_lexer": "ipython3",
   "version": "3.9.6"
  }
 },
 "nbformat": 4,
 "nbformat_minor": 5
}
