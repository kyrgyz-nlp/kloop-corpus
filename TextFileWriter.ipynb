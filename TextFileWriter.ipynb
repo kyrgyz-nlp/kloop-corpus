{
 "cells": [
  {
   "cell_type": "code",
   "execution_count": 1,
   "id": "e884f5c1",
   "metadata": {},
   "outputs": [],
   "source": [
    "import os\n",
    "import django\n",
    "\n",
    "# The following lines are here to avoid `SynchronousOnlyOperation` exception\n",
    "os.environ.setdefault('DJANGO_SETTINGS_MODULE', 'config.settings')\n",
    "os.environ[\"DJANGO_ALLOW_ASYNC_UNSAFE\"] = \"true\"\n",
    "django.setup()\n",
    "\n",
    "from articles.models import Article"
   ]
  },
  {
   "cell_type": "code",
   "execution_count": 2,
   "id": "70a6ae90",
   "metadata": {},
   "outputs": [
    {
     "data": {
      "text/plain": [
       "<spacy.pipeline.sentencizer.Sentencizer at 0x7f6511a64740>"
      ]
     },
     "execution_count": 2,
     "metadata": {},
     "output_type": "execute_result"
    }
   ],
   "source": [
    "from spacy.lang.ky import Kyrgyz\n",
    "\n",
    "spacy_nlp = Kyrgyz()\n",
    "spacy_nlp.add_pipe(\"sentencizer\")"
   ]
  },
  {
   "cell_type": "code",
   "execution_count": 3,
   "id": "1b1c1f36",
   "metadata": {},
   "outputs": [
    {
     "name": "stdout",
     "output_type": "stream",
     "text": [
      "30934\n"
     ]
    }
   ],
   "source": [
    "arts = Article.objects.all()\n",
    "print(len(arts))"
   ]
  },
  {
   "cell_type": "code",
   "execution_count": 4,
   "id": "8bed9048",
   "metadata": {},
   "outputs": [],
   "source": [
    "# Clean the file\n",
    "f = open('all_texts.txt', 'w')\n",
    "f.write('')\n",
    "f.close()"
   ]
  },
  {
   "cell_type": "code",
   "execution_count": 5,
   "id": "5d6dd0bc",
   "metadata": {},
   "outputs": [],
   "source": [
    "def append_article_to_file(article, sentences):\n",
    "    with open('all_texts.txt', 'a') as file:\n",
    "        # Formatting the article data\n",
    "        title = article.title.strip() if article.title else 'No Title'\n",
    "        article_url = article.article_url.strip() if article.article_url else 'No URL'\n",
    "        created_at = article.created_at.strftime('%Y-%m-%d %H:%M:%S') if article.created_at else 'No Date'\n",
    "        posted_by = article.posted_by.strip() if article.posted_by else 'Unknown'\n",
    "        author = article.author.strip() if article.author else 'Unknown'\n",
    "        translator = article.translator.strip() if article.translator else 'Unknown'\n",
    "        editor = article.editor.strip() if article.editor else 'Unknown'\n",
    "\n",
    "        # Writing the article metadata to the file\n",
    "        file.write(f'Title: {title}\\n')\n",
    "        file.write(f'URL: {article_url}\\n')\n",
    "        file.write(f'Created At: {created_at}\\n')\n",
    "        file.write(f'Posted By: {posted_by}\\n')\n",
    "        file.write(f'Author: {author}\\n')\n",
    "        file.write(f'Translator: {translator}\\n')\n",
    "        file.write(f'Editor: {editor}\\n')\n",
    "        file.write('Sentences:\\n')\n",
    "        file.write('-' * 40 + '\\n')\n",
    "\n",
    "        # Writing the sentences to the file\n",
    "        for sentence in sentences:\n",
    "            text = sentence.text.strip()\n",
    "            file.write(text + '\\n')\n",
    "\n",
    "        file.write('-' * 40 + '\\n')  # Separator for readability"
   ]
  },
  {
   "cell_type": "code",
   "execution_count": 6,
   "id": "90e5bd77",
   "metadata": {},
   "outputs": [],
   "source": [
    "# Append each article to all_texts.txt\n",
    "for art in arts:\n",
    "    doc = spacy_nlp(art.text)\n",
    "    append_article_to_file(art, doc.sents)"
   ]
  },
  {
   "cell_type": "code",
   "execution_count": 7,
   "id": "eef07c22",
   "metadata": {},
   "outputs": [],
   "source": [
    "import zipfile\n",
    "\n",
    "def compress_file(filename):\n",
    "    with zipfile.ZipFile(filename + '.zip', 'w', compression=zipfile.ZIP_DEFLATED) as zip_file:\n",
    "        zip_file.write(filename)\n"
   ]
  },
  {
   "cell_type": "code",
   "execution_count": 8,
   "id": "5e95a36a",
   "metadata": {},
   "outputs": [],
   "source": [
    "# Put the file into an archive\n",
    "compress_file('all_texts.txt')"
   ]
  },
  {
   "cell_type": "code",
   "execution_count": 20,
   "id": "167bea7d",
   "metadata": {},
   "outputs": [],
   "source": [
    "# Remove all_texts.txt since github won't accept big files\n",
    "!rm all_texts.txt"
   ]
  },
  {
   "cell_type": "code",
   "execution_count": 21,
   "id": "ee1bc00e",
   "metadata": {},
   "outputs": [],
   "source": [
    "# Decompress the archive. Run this if only you want to work with the raw text file\n",
    "\n",
    "import zipfile\n",
    "\n",
    "with zipfile.ZipFile('all_texts.txt.zip', 'r') as zip_ref:\n",
    "    zip_ref.extract('all_texts.txt')\n"
   ]
  },
  {
   "cell_type": "code",
   "execution_count": null,
   "id": "8bc2eddb",
   "metadata": {},
   "outputs": [],
   "source": []
  }
 ],
 "metadata": {
  "kernelspec": {
   "display_name": "Python 3 (ipykernel)",
   "language": "python",
   "name": "python3"
  },
  "language_info": {
   "codemirror_mode": {
    "name": "ipython",
    "version": 3
   },
   "file_extension": ".py",
   "mimetype": "text/x-python",
   "name": "python",
   "nbconvert_exporter": "python",
   "pygments_lexer": "ipython3",
   "version": "3.10.12"
  }
 },
 "nbformat": 4,
 "nbformat_minor": 5
}
